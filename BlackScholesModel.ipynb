{
  "nbformat": 4,
  "nbformat_minor": 0,
  "metadata": {
    "colab": {
      "provenance": [],
      "authorship_tag": "ABX9TyPl+/u4PxhASUaEfxbFrV8s",
      "include_colab_link": true
    },
    "kernelspec": {
      "name": "python3",
      "display_name": "Python 3"
    },
    "language_info": {
      "name": "python"
    }
  },
  "cells": [
    {
      "cell_type": "markdown",
      "metadata": {
        "id": "view-in-github",
        "colab_type": "text"
      },
      "source": [
        "<a href=\"https://colab.research.google.com/github/JYoung998/Quant-Projects/blob/main/BlackScholesModel.ipynb\" target=\"_parent\"><img src=\"https://colab.research.google.com/assets/colab-badge.svg\" alt=\"Open In Colab\"/></a>"
      ]
    },
    {
      "cell_type": "code",
      "execution_count": 27,
      "metadata": {
        "id": "2MdqIKSQnuar"
      },
      "outputs": [],
      "source": [
        "# Import libraries\n",
        "import math\n",
        "from scipy.stats import norm"
      ]
    },
    {
      "cell_type": "code",
      "source": [
        "# Define Variables\n",
        "S = 45 # Underlying Price\n",
        "K = 40 # Strike Price\n",
        "T = 2 # Time to expiration\n",
        "r = 0.1 # Risk-free Rate\n",
        "vol = 0.2 # Volatility"
      ],
      "metadata": {
        "id": "3pBMTvv5oc-N"
      },
      "execution_count": 28,
      "outputs": []
    },
    {
      "cell_type": "code",
      "source": [
        "# Calculate d1\n",
        "d1 = (math.log(S/K) + (r + 0.5 * vol**2)*T ) / (vol * math.sqrt(T))"
      ],
      "metadata": {
        "id": "QencdrykqIOL"
      },
      "execution_count": 29,
      "outputs": []
    },
    {
      "cell_type": "code",
      "source": [
        "# Calculate d2\n",
        "d2 = d1 - (vol * math.sqrt(T))"
      ],
      "metadata": {
        "id": "P3YPnocYqkk-"
      },
      "execution_count": 30,
      "outputs": []
    },
    {
      "cell_type": "code",
      "source": [
        "# Calculate Call Option Price\n",
        "C = S * norm.cdf(d1) - K * math.exp(-r * T) * norm.cdf(d2)"
      ],
      "metadata": {
        "id": "ElqOYxmGqvsz"
      },
      "execution_count": 31,
      "outputs": []
    },
    {
      "cell_type": "code",
      "source": [
        "# Calculate the Put Option Price\n",
        "P = K * math.exp(-r * T) * norm.cdf(-d2) - S * norm.cdf(-d1)"
      ],
      "metadata": {
        "id": "8sFnOmWyrQnW"
      },
      "execution_count": 32,
      "outputs": []
    },
    {
      "cell_type": "code",
      "source": [
        "# Print the results\n",
        "print('The value of d1 is: ', round(d1, 4))\n",
        "print('The value of d1 is: ', round(d2, 4))\n",
        "print('The price of the call option is: $', round(C, 2))\n",
        "print('The price of the put option is: $', round(P, 2))"
      ],
      "metadata": {
        "colab": {
          "base_uri": "https://localhost:8080/"
        },
        "id": "n3z2GbfgjKSw",
        "outputId": "76c07b54-e475-4984-834d-17a72dd0890a"
      },
      "execution_count": 33,
      "outputs": [
        {
          "output_type": "stream",
          "name": "stdout",
          "text": [
            "The value of d1 is:  1.265\n",
            "The value of d1 is:  0.9821\n",
            "The price of the call option is: $ 12.96\n",
            "The price of the put option is: $ 0.71\n"
          ]
        }
      ]
    }
  ]
}